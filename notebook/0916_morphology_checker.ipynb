{
 "cells": [
  {
   "cell_type": "code",
   "execution_count": 1,
   "metadata": {},
   "outputs": [],
   "source": [
    "import pandas as pd\n",
    "import numpy as np\n",
    "import os"
   ]
  },
  {
   "cell_type": "markdown",
   "metadata": {},
   "source": [
    "## 形態情報の欠損値について\n",
    "形態情報がどのように欠損しているかまとめるnotebook"
   ]
  },
  {
   "cell_type": "code",
   "execution_count": 23,
   "metadata": {},
   "outputs": [],
   "source": [
    "def calc_nan_morpho(df):\n",
    "    \"\"\"\n",
    "    Aneu_width, depth, neck, heightが欠損している個数を調べる\n",
    "    次に，2つのペアずつで両方が欠損している数を調べる\n",
    "    最後にvolumが欠損or0である個数を調べる\n",
    "    \"\"\"\n",
    "    # 欠損している個数を調べる\n",
    "    df = df[['ID', 'Aneu_width', 'Aneu_depth', 'Aneu_neck', 'Aneu_height', 'Aneu_volume']]\n",
    "    df = df.replace(0, np.nan) \n",
    "    df = df.replace('0', np.nan)\n",
    "    df = df.replace('0.0', np.nan)\n",
    "\n",
    "    # 欠損している個数を調べる\n",
    "    print('#'*20)\n",
    "    print(f'各データにおける欠損の個数は \\n {df.isnull().sum()} \\n です．')    \n",
    "    \n",
    "    print('#'*20)\n",
    "    print('以下,2つのペアを作り，両方が欠損しているデータの個数を調べます．')\n",
    "    pairs = [('Aneu_width', 'Aneu_depth'), \n",
    "             ('Aneu_width', 'Aneu_neck'), \n",
    "             ('Aneu_width', 'Aneu_height'),\n",
    "             ('Aneu_depth', 'Aneu_neck'), \n",
    "             ('Aneu_depth', 'Aneu_height'),\n",
    "             ('Aneu_neck', 'Aneu_height')]\n",
    "    for col1, col2 in pairs:\n",
    "        count = df[df[col1].isnull() & df[col2].isnull()].shape[0]\n",
    "        print(f'{col1.replace(\"Aneu_\", \"\")} and {col2.replace(\"Aneu_\", \"\")} ： {count}')\n"
   ]
  },
  {
   "cell_type": "code",
   "execution_count": 27,
   "metadata": {},
   "outputs": [],
   "source": [
    "df_medid1 = pd.read_csv('../output/medid_1_v8/experiment.csv')\n",
    "df_medid2 = pd.read_csv('../output/medid_2_v1/experiment.csv')\n"
   ]
  },
  {
   "cell_type": "code",
   "execution_count": 28,
   "metadata": {},
   "outputs": [
    {
     "name": "stdout",
     "output_type": "stream",
     "text": [
      "####################\n",
      "各データにおける欠損の個数は \n",
      " ID              0\n",
      "Aneu_width     13\n",
      "Aneu_depth     52\n",
      "Aneu_neck      35\n",
      "Aneu_height     0\n",
      "Aneu_volume    52\n",
      "dtype: int64 \n",
      " です．\n",
      "####################\n",
      "以下,2つのペアを作り，両方が欠損しているデータの個数を調べます．\n",
      "width and depth ： 13\n",
      "width and neck ： 11\n",
      "width and height ： 0\n",
      "depth and neck ： 16\n",
      "depth and height ： 0\n",
      "neck and height ： 0\n"
     ]
    }
   ],
   "source": [
    "# 慈恵医大のデータについて\n",
    "calc_nan_morpho(df_medid1)"
   ]
  },
  {
   "cell_type": "code",
   "execution_count": 29,
   "metadata": {},
   "outputs": [
    {
     "name": "stdout",
     "output_type": "stream",
     "text": [
      "####################\n",
      "各データにおける欠損の個数は \n",
      " ID                0\n",
      "Aneu_width        0\n",
      "Aneu_depth     1194\n",
      "Aneu_neck         0\n",
      "Aneu_height       0\n",
      "Aneu_volume    1194\n",
      "dtype: int64 \n",
      " です．\n",
      "####################\n",
      "以下,2つのペアを作り，両方が欠損しているデータの個数を調べます．\n",
      "width and depth ： 0\n",
      "width and neck ： 0\n",
      "width and height ： 0\n",
      "depth and neck ： 0\n",
      "depth and height ： 0\n",
      "neck and height ： 0\n"
     ]
    }
   ],
   "source": [
    "# 順天医大のデータについて\n",
    "calc_nan_morpho(df_medid2)"
   ]
  },
  {
   "cell_type": "code",
   "execution_count": null,
   "metadata": {},
   "outputs": [],
   "source": []
  }
 ],
 "metadata": {
  "kernelspec": {
   "display_name": "Python 3",
   "language": "python",
   "name": "python3"
  },
  "language_info": {
   "codemirror_mode": {
    "name": "ipython",
    "version": 3
   },
   "file_extension": ".py",
   "mimetype": "text/x-python",
   "name": "python",
   "nbconvert_exporter": "python",
   "pygments_lexer": "ipython3",
   "version": "3.9.8"
  },
  "orig_nbformat": 4
 },
 "nbformat": 4,
 "nbformat_minor": 2
}
