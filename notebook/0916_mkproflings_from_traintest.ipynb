{
 "cells": [
  {
   "cell_type": "code",
   "execution_count": 1,
   "metadata": {},
   "outputs": [],
   "source": [
    "import pandas as pd\n",
    "import os"
   ]
  },
  {
   "cell_type": "markdown",
   "metadata": {},
   "source": [
    "### Train/Testをconcatしてprofilings用のファイルを作成する"
   ]
  },
  {
   "cell_type": "code",
   "execution_count": 2,
   "metadata": {},
   "outputs": [],
   "source": [
    "df_jikei_train = pd.read_csv('../output/exp_dataset/medid_1_v8/train.csv')\n",
    "df_jikei_test = pd.read_csv('../output/exp_dataset/medid_1_v8/test.csv')\n",
    "df_junten_train = pd.read_csv('../output/exp_dataset/medid_2_v1/train.csv')\n",
    "df_junten_test = pd.read_csv('../output/exp_dataset/medid_2_v1/test.csv')\n",
    "\n",
    "df_jikei = pd.concat([df_jikei_train, df_jikei_test])\n",
    "df_junten = pd.concat([df_junten_train, df_junten_test])"
   ]
  },
  {
   "cell_type": "code",
   "execution_count": 3,
   "metadata": {},
   "outputs": [],
   "source": [
    "def mkcsv_for_profilings(df):\n",
    "    df = df[[\n",
    "        'ID','Sex','Age',\n",
    "        'Aneu_location','Aneu_neck','Aneu_width','Aneu_height','Aneu_volume',\n",
    "        'Adj_tech','Is_bleb','VER',\n",
    "        'coil_count','Aneu_width_label',\n",
    "        'coil_length1','coil_size1', 'coil_size2', 'coil_length2', 'coil_size3', 'coil_length3']]\n",
    "    print(df)\n",
    "    return df"
   ]
  },
  {
   "cell_type": "code",
   "execution_count": 4,
   "metadata": {},
   "outputs": [
    {
     "name": "stdout",
     "output_type": "stream",
     "text": [
      "       ID    Sex  Age Aneu_location  Aneu_neck  Aneu_width  Aneu_height  \\\n",
      "0       2  woman   49           ICA        2.7         8.2         10.9   \n",
      "1       3  woman   54           ICA        6.0         6.5          5.5   \n",
      "2       8  woman   63           ICA        5.0        11.0         11.0   \n",
      "3      11  woman   58           MCA        4.4         7.9          7.5   \n",
      "4      16  woman   78           ICA        5.0        11.0         11.0   \n",
      "..    ...    ...  ...           ...        ...         ...          ...   \n",
      "308  2464    man   46           ICA        3.6         3.8          4.7   \n",
      "309  2472    man   70           ACA        4.0         3.9          3.4   \n",
      "310  2498  woman   66            VA        6.0         5.7          6.0   \n",
      "311  2499  woman   59           ICA        3.6         4.3          3.8   \n",
      "312  2510  woman   78           ICA        4.5         4.9          6.3   \n",
      "\n",
      "     Aneu_volume      Adj_tech Is_bleb   VER  coil_count  Aneu_width_label  \\\n",
      "0     446.706343           NaN      no   NaN           9               2.0   \n",
      "1     112.255000           NaN      no   NaN           4               1.0   \n",
      "2     696.556667           NaN      no   NaN          15               2.0   \n",
      "3     238.757750           NaN      no   NaN          12               2.0   \n",
      "4     696.556667        Simple      no   NaN          15               2.0   \n",
      "..           ...           ...     ...   ...         ...               ...   \n",
      "308    40.190953  Double cathe      no  27.6           7               0.0   \n",
      "309    25.675780  Stent assist     yes  38.0           5               0.0   \n",
      "310   105.598200  Stent assist      no  15.8           9               1.0   \n",
      "311    35.060193  Stent assist      no  27.5           3               0.0   \n",
      "312    90.469680  Stent assist      no  23.0           8               0.0   \n",
      "\n",
      "     coil_length1  coil_size1  coil_size2  coil_length2  coil_size3  \\\n",
      "0            30.0         8.0         6.0          20.0         5.0   \n",
      "1            15.0         7.0         5.0          10.0         4.0   \n",
      "2            30.0        10.0         8.0          30.0         8.0   \n",
      "3            12.0         7.0         6.0          20.0         8.0   \n",
      "4            30.0        10.0        10.0          30.0         8.0   \n",
      "..            ...         ...         ...           ...         ...   \n",
      "308           8.0         4.0         3.0           4.0         2.0   \n",
      "309           7.0         4.0         3.0           6.0         1.0   \n",
      "310          10.0         5.0         4.0           8.0         3.0   \n",
      "311           8.0         4.0         2.5           4.0         2.0   \n",
      "312          10.0         5.0         4.0           8.0         3.5   \n",
      "\n",
      "     coil_length3  \n",
      "0            20.0  \n",
      "1            10.0  \n",
      "2            20.0  \n",
      "3            20.0  \n",
      "4            20.0  \n",
      "..            ...  \n",
      "308           3.0  \n",
      "309           3.0  \n",
      "310           4.0  \n",
      "311           3.0  \n",
      "312           6.0  \n",
      "\n",
      "[1564 rows x 19 columns]\n",
      "       ID    Sex  Age Aneu_location  Aneu_neck  Aneu_width  Aneu_height  \\\n",
      "0    3027  woman   79            BA       3.00        7.00        10.00   \n",
      "1    3030  woman   54           ICA       3.00        5.00         5.00   \n",
      "2    3031    man   60           ACA       2.50        4.50         5.00   \n",
      "3    3035  woman   63           ICA       3.50        3.50         5.50   \n",
      "4    3037  woman   82           ACA       3.60        6.00         5.60   \n",
      "..    ...    ...  ...           ...        ...         ...          ...   \n",
      "249  4408    man   75           ACA       4.99        6.84         4.54   \n",
      "250  4414  woman   64           ICA       3.59        5.27         4.94   \n",
      "251  4424  woman   52           MCA       2.71        2.54         3.31   \n",
      "252  4431  woman   29           ICA       2.99        3.92         2.99   \n",
      "253  4434  woman   60            VA       6.00        7.50         8.50   \n",
      "\n",
      "     Aneu_volume      Adj_tech Is_bleb  VER  coil_count  Aneu_width_label  \\\n",
      "0     311.383333        Simple      no  NaN           6               2.0   \n",
      "1      65.416667           BAT      no  NaN           2               1.0   \n",
      "2      55.931250        Simple      no  NaN           2               0.0   \n",
      "3      45.333750        Simple      no  NaN           3               0.0   \n",
      "4     101.987200        Simple      no  NaN           3               1.0   \n",
      "..           ...           ...     ...  ...         ...               ...   \n",
      "249   111.215848  Stent assist      no  NaN          13               1.0   \n",
      "250    71.836771  Stent assist      no  NaN           8               1.0   \n",
      "251    11.181345  Stent assist      no  NaN           6               0.0   \n",
      "252    24.057026  Stent assist      no  NaN           2               0.0   \n",
      "253   250.345665  Stent assist      no  NaN          14               2.0   \n",
      "\n",
      "     coil_length1  coil_size1  coil_size2  coil_length2  coil_size3  \\\n",
      "0            20.0         8.0         6.0          10.0         5.0   \n",
      "1             6.0         3.0         2.0           2.0         NaN   \n",
      "2             8.0         4.0         2.5           4.0         NaN   \n",
      "3             8.0         4.0         2.5           4.0         2.0   \n",
      "4            10.0         5.0         4.0           8.0         2.5   \n",
      "..            ...         ...         ...           ...         ...   \n",
      "249          20.0         6.0         5.0          10.0         4.5   \n",
      "250          10.0         5.0         3.0           4.0         2.0   \n",
      "251           4.0         2.5         2.0           4.0         1.0   \n",
      "252           6.0         3.0         2.0           4.0         NaN   \n",
      "253          30.0        10.0         8.0          20.0         7.0   \n",
      "\n",
      "     coil_length3  \n",
      "0            10.0  \n",
      "1             NaN  \n",
      "2             NaN  \n",
      "3             3.0  \n",
      "4             6.0  \n",
      "..            ...  \n",
      "249          12.0  \n",
      "250           4.0  \n",
      "251           3.0  \n",
      "252           NaN  \n",
      "253          15.0  \n",
      "\n",
      "[1267 rows x 19 columns]\n"
     ]
    }
   ],
   "source": [
    "mkcsv_for_profilings(df_jikei).to_csv('../profilings/profilings_input/jikei_exp_traintest.csv', index=False)\n",
    "mkcsv_for_profilings(df_junten).to_csv('../profilings/profilings_input/junten_exp_traintest.csv', index=False)"
   ]
  },
  {
   "cell_type": "code",
   "execution_count": null,
   "metadata": {},
   "outputs": [],
   "source": []
  }
 ],
 "metadata": {
  "kernelspec": {
   "display_name": "Python 3",
   "language": "python",
   "name": "python3"
  },
  "language_info": {
   "codemirror_mode": {
    "name": "ipython",
    "version": 3
   },
   "file_extension": ".py",
   "mimetype": "text/x-python",
   "name": "python",
   "nbconvert_exporter": "python",
   "pygments_lexer": "ipython3",
   "version": "3.9.8"
  },
  "orig_nbformat": 4
 },
 "nbformat": 4,
 "nbformat_minor": 2
}
