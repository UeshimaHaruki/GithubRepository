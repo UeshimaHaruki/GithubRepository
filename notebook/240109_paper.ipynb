{
 "cells": [
  {
   "cell_type": "markdown",
   "metadata": {},
   "source": [
    "# 論文用にデータがどのように削除されるかを調査"
   ]
  },
  {
   "cell_type": "code",
   "execution_count": 2,
   "metadata": {},
   "outputs": [],
   "source": [
    "import pandas as pd\n",
    "import numpy as np\n",
    "import os"
   ]
  },
  {
   "cell_type": "markdown",
   "metadata": {},
   "source": [
    "知りたい内容\n",
    "- サキュラーの数\n",
    "- 合併症や再治療でない症例\n",
    "- 治療回数が1回目の症例\n",
    "- 補助手技が特定のもの"
   ]
  },
  {
   "cell_type": "markdown",
   "metadata": {},
   "source": [
    "## Multi_coil_preediction用"
   ]
  },
  {
   "cell_type": "code",
   "execution_count": 5,
   "metadata": {},
   "outputs": [],
   "source": [
    "df_ID_relation = pd.read_csv('../org_csv/ID_relation.csv')\n",
    "df_removed = pd.read_csv('../output/medid_1_v8/removed_ids.csv')"
   ]
  },
  {
   "cell_type": "code",
   "execution_count": 13,
   "metadata": {},
   "outputs": [
    {
     "name": "stdout",
     "output_type": "stream",
     "text": [
      "元のデータ数： 2515\n",
      "元のデータのうちの患者数： 2330\n"
     ]
    }
   ],
   "source": [
    "# 大元のデータの数を表示 df_ID_relationのうちID_Med=1の数を表示\n",
    "print('元のデータ数：', len(df_ID_relation[df_ID_relation['ID_Med']==1]))\n",
    "print('元のデータのうちの患者数：', len(df_ID_relation[df_ID_relation['ID_Med']==1]['ID_Patient'].unique()))"
   ]
  },
  {
   "cell_type": "code",
   "execution_count": 15,
   "metadata": {},
   "outputs": [
    {
     "name": "stdout",
     "output_type": "stream",
     "text": [
      "['rupture' 'adj_rupture' 'retreat' 'complication' 'aneu_type' 'adj_tech'\n",
      " 'coil_missing']\n",
      "rupture：\n",
      " 症例数280 \n",
      " 患者数270\n",
      "adj_rupture：\n",
      " 症例数8 \n",
      " 患者数8\n",
      "retreat：\n",
      " 症例数182 \n",
      " 患者数178\n",
      "complication：\n",
      " 症例数146 \n",
      " 患者数136\n",
      "aneu_type：\n",
      " 症例数61 \n",
      " 患者数61\n",
      "adj_tech：\n",
      " 症例数205 \n",
      " 患者数197\n",
      "coil_missing：\n",
      " 症例数8 \n",
      " 患者数8\n"
     ]
    }
   ],
   "source": [
    "# df_removedの各カテゴリにおいて，df_ID_relationに存在するIDのみを抽出する\n",
    "# そのうえで，ID_Patientのユニーク数と全体の数を算出する\n",
    "# f'消えた脳動脈瘤の数{}_患者の数{}'という形で出力する\n",
    "list_Removed_Step = df_removed['Removed_Step'].unique()\n",
    "print(list_Removed_Step)\n",
    "list_id_medid_1 = df_ID_relation[df_ID_relation['ID_Med']==1]['ID']\n",
    "\n",
    "for Removed_Step in list_Removed_Step:\n",
    "    df_removed_Step = df_removed[df_removed['Removed_Step'] == Removed_Step]\n",
    "    list_Removed_ID = df_removed_Step['ID']\n",
    "    df_ID_relation_Step = df_ID_relation[df_ID_relation['ID'].isin(list_Removed_ID)]\n",
    "    list_Remained_ID = df_ID_relation_Step['ID_Patient'].unique()\n",
    "    print(f'{Removed_Step}：\\n 症例数{len(list_Removed_ID)} \\n 患者数{len(list_Remained_ID)}')"
   ]
  },
  {
   "cell_type": "code",
   "execution_count": 20,
   "metadata": {},
   "outputs": [
    {
     "name": "stdout",
     "output_type": "stream",
     "text": [
      "脳動脈瘤数：2515, 患者数：2330\n",
      "rupture：脳動脈瘤数：2235, 患者数：2078\n",
      "adj_rupture：脳動脈瘤数：2227, 患者数：2074\n",
      "retreat：脳動脈瘤数：2045, 患者数：1918\n",
      "complication：脳動脈瘤数：1903, 患者数：1793\n",
      "aneu_type：脳動脈瘤数：1842, 患者数：1734\n",
      "adj_tech：脳動脈瘤数：1637, 患者数：1561\n",
      "coil_missing：脳動脈瘤数：1629, 患者数：1553\n"
     ]
    }
   ],
   "source": [
    "# df_removedの各カテゴリにおいて，df_ID_relationに存在するIDのみを抽出する\n",
    "# そのうえで，ID_Patientのユニーク数と全体の数を算出する\n",
    "# f'消えた脳動脈瘤の数{}_患者の数{}'という形で出力する\n",
    "list_Removed_Step = df_removed['Removed_Step'].unique()\n",
    "df_id_medid_1 = df_ID_relation[df_ID_relation['ID_Med']==1]\n",
    "print(f'脳動脈瘤数：{len(df_id_medid_1)}, 患者数：{len(df_id_medid_1[\"ID_Patient\"].unique())}')\n",
    "\n",
    "for Removed_Step in list_Removed_Step:\n",
    "    df_removed_Step = df_removed[df_removed['Removed_Step'] == Removed_Step]\n",
    "    list_Removed_ID = df_removed_Step['ID']\n",
    "    df_id_medid_1 = df_id_medid_1[~df_id_medid_1['ID'].isin(list_Removed_ID)]\n",
    "    print(f'{Removed_Step}：脳動脈瘤数：{len(df_id_medid_1)}, 患者数：{len(df_id_medid_1[\"ID_Patient\"].unique())}')"
   ]
  },
  {
   "cell_type": "code",
   "execution_count": 28,
   "metadata": {},
   "outputs": [],
   "source": [
    "# なぜか2つのデータが急に増える"
   ]
  },
  {
   "cell_type": "code",
   "execution_count": 27,
   "metadata": {},
   "outputs": [
    {
     "name": "stdout",
     "output_type": "stream",
     "text": [
      "データセットの数： 1565\n",
      "データセットのうちの患者数： 1492\n"
     ]
    }
   ],
   "source": [
    "df_dataset = pd.read_csv('../output/exp_dataset/medid_1_v8/dataset.csv')\n",
    "print('データセットの数：', len(df_dataset))\n",
    "list_id_patient = df_dataset['ID'].unique()\n",
    "df_dataset_ID_relation = df_ID_relation[df_ID_relation['ID'].isin(list_id_patient)]\n",
    "print('データセットのうちの患者数：', len(df_dataset_ID_relation['ID_Patient'].unique()))"
   ]
  },
  {
   "cell_type": "code",
   "execution_count": null,
   "metadata": {},
   "outputs": [],
   "source": []
  },
  {
   "cell_type": "code",
   "execution_count": null,
   "metadata": {},
   "outputs": [],
   "source": []
  },
  {
   "cell_type": "code",
   "execution_count": null,
   "metadata": {},
   "outputs": [],
   "source": []
  }
 ],
 "metadata": {
  "kernelspec": {
   "display_name": "amed",
   "language": "python",
   "name": "python3"
  },
  "language_info": {
   "codemirror_mode": {
    "name": "ipython",
    "version": 3
   },
   "file_extension": ".py",
   "mimetype": "text/x-python",
   "name": "python",
   "nbconvert_exporter": "python",
   "pygments_lexer": "ipython3",
   "version": "3.9.8"
  }
 },
 "nbformat": 4,
 "nbformat_minor": 2
}
