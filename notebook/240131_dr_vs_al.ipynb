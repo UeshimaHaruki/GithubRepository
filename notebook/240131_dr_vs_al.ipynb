{
 "cells": [
  {
   "cell_type": "code",
   "execution_count": 1,
   "metadata": {},
   "outputs": [],
   "source": [
    "# 医師とAIの対決を行うためのデータ抽出のプログラム"
   ]
  },
  {
   "cell_type": "code",
   "execution_count": 2,
   "metadata": {},
   "outputs": [],
   "source": [
    "import pandas as pd\n",
    "import numpy as np\n",
    "import matplotlib.pyplot as plt\n",
    "import os "
   ]
  },
  {
   "cell_type": "code",
   "execution_count": 10,
   "metadata": {},
   "outputs": [],
   "source": [
    "pd.read_csv('../output/ID_Aneu_height.csv')\n",
    "df_data_label = pd.read_csv('../output/exp_dataset/medid_1_v8/ID_split_category.csv')\n",
    "df_id_relation = pd.read_csv('../org_csv/ID_relation.csv')"
   ]
  },
  {
   "cell_type": "code",
   "execution_count": 12,
   "metadata": {},
   "outputs": [
    {
     "name": "stdout",
     "output_type": "stream",
     "text": [
      "302\n"
     ]
    }
   ],
   "source": [
    "# df_data_labelのSplit_CategoryがTestのもののIDを取得\n",
    "# df_id_relationのIDが一致するもののみを抽出\n",
    "\n",
    "df_test = df_data_label[df_data_label['Split_Category'] == 'Test']\n",
    "df_test = df_test.reset_index(drop=True)\n",
    "test_ID = df_test['ID'].values.tolist()\n",
    "result_id_relation = df_id_relation[df_id_relation['ID'].isin(test_ID)]\n",
    "result_id_relation = result_id_relation.reset_index(drop=True)\n",
    "assert len(result_id_relation) == len(test_ID)\n",
    "print(len(result_id_relation))"
   ]
  },
  {
   "cell_type": "code",
   "execution_count": 13,
   "metadata": {},
   "outputs": [],
   "source": [
    "result_id_relation.to_csv('../output/exp_dataset/medid_1_v8/Doctor_vs_AI_test_data.csv', index=False)"
   ]
  },
  {
   "cell_type": "code",
   "execution_count": null,
   "metadata": {},
   "outputs": [],
   "source": []
  }
 ],
 "metadata": {
  "kernelspec": {
   "display_name": "amed",
   "language": "python",
   "name": "python3"
  },
  "language_info": {
   "codemirror_mode": {
    "name": "ipython",
    "version": 3
   },
   "file_extension": ".py",
   "mimetype": "text/x-python",
   "name": "python",
   "nbconvert_exporter": "python",
   "pygments_lexer": "ipython3",
   "version": "3.9.13"
  }
 },
 "nbformat": 4,
 "nbformat_minor": 2
}
