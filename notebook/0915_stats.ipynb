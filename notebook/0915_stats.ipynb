{
 "cells": [
  {
   "cell_type": "code",
   "execution_count": 1,
   "metadata": {},
   "outputs": [],
   "source": [
    "import pandas as pd\n",
    "import numpy as np\n",
    "import os"
   ]
  },
  {
   "cell_type": "markdown",
   "metadata": {},
   "source": [
    "### 元のcsvから，adjunc tech.のvalue countsをstock下に保存"
   ]
  },
  {
   "cell_type": "code",
   "execution_count": 11,
   "metadata": {},
   "outputs": [
    {
     "name": "stderr",
     "output_type": "stream",
     "text": [
      "C:\\Users\\ameds\\AppData\\Local\\Temp\\ipykernel_12472\\341515299.py:1: DtypeWarning: Columns (125,126,128,129,130,131,132,133,134,135,136,138,139,144,145,147,148,150,163,220,221,222,223,224,225,226,227,228,229,230,231,232,233,234,235,236,237,238,239,240,241,242,243,244,245,246,247,248,249,250,251,252,253,254,255) have mixed types. Specify dtype option on import or set low_memory=False.\n",
      "  df_jikei = pd.read_csv('../org_csv/jikei_axiom_v8.csv')\n"
     ]
    }
   ],
   "source": [
    "df_jikei = pd.read_csv('../org_csv/jikei_axiom_v8.csv')\n",
    "# adj_techのuniqe,valuesを取得\n",
    "adj_tech_jikei = df_jikei['adjunc tech.'].value_counts().sort_index()\n",
    "\n",
    "df_junten = pd.read_csv('../org_csv/junten_axiom_v1.csv')\n",
    "# adj_techのuniqe,valuesを取得\n",
    "adj_tech_junten = df_junten['adjunc tech.'].value_counts().sort_index()\n",
    "\n",
    "df_adj_tech = pd.concat([adj_tech_jikei, adj_tech_junten], axis=1)\n",
    "df_adj_tech.columns = ['jikei', 'junten']\n",
    "df_adj_tech.to_csv('./stock/adj_tech_value_counts.csv')"
   ]
  },
  {
   "cell_type": "code",
   "execution_count": null,
   "metadata": {},
   "outputs": [],
   "source": []
  }
 ],
 "metadata": {
  "kernelspec": {
   "display_name": "amed",
   "language": "python",
   "name": "python3"
  },
  "language_info": {
   "codemirror_mode": {
    "name": "ipython",
    "version": 3
   },
   "file_extension": ".py",
   "mimetype": "text/x-python",
   "name": "python",
   "nbconvert_exporter": "python",
   "pygments_lexer": "ipython3",
   "version": "3.9.13"
  },
  "orig_nbformat": 4
 },
 "nbformat": 4,
 "nbformat_minor": 2
}
